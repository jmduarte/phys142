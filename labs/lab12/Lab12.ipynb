{
 "cells": [
  {
   "cell_type": "markdown",
   "metadata": {},
   "source": [
    "# Lab 12: MCMC Tutorial\n",
    "\n",
    "In this lab, we will study the 2D Ising model using Markov chain Monte Carlo.\n",
    "We demonstrate how to implement the Metropolis-Hastings algorithm to sample the Ising model at different temperatures and study the phase transition.\n",
    "\n",
    "\n",
    "## 2D Ising Model\n",
    "The set of lattice sites is $\\Lambda$, usually a square grid.\n",
    "At each site, where $\\sigma_k \\in \\{ -1, +1\\}$￼is the spin at each site $k$.\n",
    "For any two adjacent sites $\\langle i j \\rangle$ (with no double counting) there is a spin interaction $J$.\n",
    "The energy of the system is given by\n",
    "\n",
    "$$E(\\sigma) = -J\\sum_{\\langle ij\\rangle} \\sigma_i\\sigma_j$$\n",
    "\n",
    "The probability of a given configuration $\\sigma$ is given by the Boltzmann distribution\n",
    "\n",
    "$$p(\\sigma) = \\frac{1}{Z}\\exp \\left(-\\frac{E(\\sigma)}{k_\\mathrm{B}T}\\right),$$\n",
    "\n",
    "where $Z = \\sum_{\\sigma} \\exp \\left(-\\frac{E(\\sigma)}{k_\\mathrm{B}T}\\right)$ is the partition function, $T$ is the temperature, and $k_\\mathrm{B}$ is the Boltzmann constant.\n",
    "We assume periodic boundary conditions."
   ]
  },
  {
   "cell_type": "code",
   "execution_count": null,
   "metadata": {
    "id": "9gn8no-hFUvO"
   },
   "outputs": [],
   "source": [
    "import numpy as np\n",
    "import matplotlib.pyplot as plt\n",
    "import tqdm"
   ]
  },
  {
   "cell_type": "markdown",
   "metadata": {},
   "source": [
    "## Energy of a spin configuration\n",
    "\n",
    "We will do a warmup problem by computing the energy of the Ising model spin configuration shown in lecture.\n",
    "Blue squares represent spins pointing up, and red squares represent spins pointing down.\n",
    "First, we initialize the lattice with the following spin configuration:\n",
    "\n",
    "<img src=\"ising2d.png\" width=300/>"
   ]
  },
  {
   "cell_type": "code",
   "execution_count": null,
   "metadata": {
    "colab": {
     "base_uri": "https://localhost:8080/",
     "height": 621
    },
    "id": "sWz23eySFd0P",
    "outputId": "1363715e-71b5-4f31-9574-4e5fa34954e4"
   },
   "outputs": [],
   "source": [
    "N = 10\n",
    "J = 1\n",
    "lattice_spins = np.zeros((N, N))\n",
    "for i in range(N):\n",
    "    for j in range(N):\n",
    "        if i < 5:\n",
    "            lattice_spins[i, j] = -1\n",
    "        else:\n",
    "            lattice_spins[i, j] = 1\n",
    "lattice_spins[1, 3] = 1\n",
    "\n",
    "\n",
    "plt.figure()\n",
    "plt.imshow(lattice_spins, cmap=\"RdYlBu\")\n",
    "# show gridlines\n",
    "for i in range(N):\n",
    "    plt.axhline(i + 0.5, color=\"black\", lw=0.1)\n",
    "    plt.axvline(i + 0.5, color=\"black\", lw=0.1)\n",
    "plt.show()\n",
    "\n",
    "energy = 0\n",
    "for i in range(N):\n",
    "    for j in range(N):\n",
    "        for k, l in [(-1, 0), (1, 0), (0, 1), (0, -1)]:\n",
    "            i_neigh = i + k if i + k < N else 0\n",
    "            j_neigh = j + l if j + l < N else 0\n",
    "            energy += -J * lattice_spins[i, j] * lattice_spins[i_neigh, j_neigh]\n",
    "energy = energy / 2\n",
    "print(f\"{energy=}\")"
   ]
  },
  {
   "cell_type": "markdown",
   "metadata": {},
   "source": [
    "## MCMC Sampling\n",
    "\n",
    "As discussed in lecture, we will use the Metropolis-Hastings algorithm to sample the Ising model at a given temperature.\n",
    "\n",
    "As discussed in class the critical temperature for the 2D Ising model is $T_\\mathrm{c}=\\frac{2}{\\ln(1+\\sqrt{2})}\\approx 2.269$ in units where $J=k_\\mathrm{B}=1$.\n",
    "For $T<T_\\mathrm{c}$, the system is in the ordered phase (spins tend to align), and for $T>T_\\mathrm{c}$, the system is in the disordered phase.\n",
    "\n",
    "Let's start with $T=2$, a $100\\times100$ lattice, and 1 million MCMC steps.\n",
    "\n",
    "To apply the MCMC method to the Ising model, we design a Markov process using the Metropolis algorithm as follows\n",
    "1. On step $k$, randomly choose one of the spins $\\sigma_k$￼ and consider flipping it $\\sigma_k \\to -\\sigma_k$.\n",
    "2. Calculate the change in energy that would result from flipping spin $k$, i.e. the quantity:\n",
    "$$\\Delta E = - \\left[J \\sum_{\\langle ij\\rangle} \\sigma_j\\right] \\Delta \\sigma_i,$$\n",
    "where $\\Delta \\sigma_i = -2\\sigma_i$ is the change due to the spin flip\n",
    "   -  If $\\Delta E \\geq 0$, accept the spin flip.\n",
    "   -  If $\\Delta E > 0$, accept the spin flip with probability $\\exp(-\\Delta E/k_\\mathrm{B}T)$.\n",
    "3. Update the moving average of whatever quantity we are interested in.\n",
    "4. Repeat."
   ]
  },
  {
   "cell_type": "code",
   "execution_count": null,
   "metadata": {
    "colab": {
     "base_uri": "https://localhost:8080/"
    },
    "id": "cuXrwtCTF3VD",
    "outputId": "8a8d1226-f43f-4458-fbf5-892b7e44cbf5"
   },
   "outputs": [],
   "source": [
    "STEPS = 1_000_000\n",
    "N = 100\n",
    "J = 1\n",
    "KB = 1\n",
    "T = 2\n",
    "\n",
    "# initialize random lattice\n",
    "# lattice_spins = 2 * (np.random.randint(2, size=(N, N)) - 0.5)\n",
    "# initialize ordered lattice with all spins up\n",
    "lattice_spins = np.ones((N, N))\n",
    "\n",
    "num_accept = 0\n",
    "m_values = []\n",
    "for t in tqdm.tqdm(range(STEPS)):\n",
    "    i, j = np.random.randint(N), np.random.randint(N)\n",
    "    # we only need to consider the neighbors of \n",
    "    # (i, j) to calculate the change in energy\n",
    "    delta_energy = 0\n",
    "    for k, l in [(-1, 0), (1, 0), (0, 1), (0, -1)]:\n",
    "        i_neigh = i + k if i + k < N else 0\n",
    "        j_neigh = j + l if j + l < N else 0\n",
    "        delta_energy += -J * -2 * lattice_spins[i, j] * lattice_spins[i_neigh, j_neigh]\n",
    "    if delta_energy <= 0:\n",
    "        lattice_spins[i, j] *= -1\n",
    "        num_accept += 1\n",
    "    elif delta_energy > 0:\n",
    "        prob = np.exp(-delta_energy / (KB * T))\n",
    "        if np.random.random() < prob:\n",
    "            lattice_spins[i, j] *= -1\n",
    "            num_accept += 1\n",
    "    m_values.append(np.mean(lattice_spins))\n",
    "\n",
    "print(f\"acceptance_rate = {num_accept/STEPS}\")"
   ]
  },
  {
   "cell_type": "markdown",
   "metadata": {},
   "source": [
    "The final distribution of spins looks like this"
   ]
  },
  {
   "cell_type": "code",
   "execution_count": null,
   "metadata": {
    "colab": {
     "base_uri": "https://localhost:8080/",
     "height": 433
    },
    "id": "HKOqQw1DSrMX",
    "outputId": "05ebea3d-686f-4bb7-eef4-2b8ef5053713"
   },
   "outputs": [],
   "source": [
    "plt.figure()\n",
    "plt.imshow(lattice_spins, cmap=\"RdYlBu\")\n",
    "# show gridlines\n",
    "for i in range(N):\n",
    "    plt.axhline(i + 0.5, color=\"black\", lw=0.1)\n",
    "    plt.axvline(i + 0.5, color=\"black\", lw=0.1)\n",
    "plt.show()"
   ]
  },
  {
   "cell_type": "markdown",
   "metadata": {},
   "source": [
    "## Magnetization\n",
    "\n",
    "We can measure the magnetization, defined as the average spin over the lattice\n",
    "\n",
    "$$M = \\frac{1}{N}\\sum_{i=1}^N \\sigma_i,$$\n",
    "\n",
    "where $N$ is the number of spins.\n",
    "\n",
    "Note we use a burn-in period of 100,000 steps to allow the system to reach equilibrium."
   ]
  },
  {
   "cell_type": "code",
   "execution_count": null,
   "metadata": {
    "colab": {
     "base_uri": "https://localhost:8080/",
     "height": 483
    },
    "id": "IHo7l6vH8K7t",
    "outputId": "33984c7c-1dd6-4b2d-a9a1-4371a22de252"
   },
   "outputs": [],
   "source": [
    "BURNIN = 100_000\n",
    "\n",
    "m_mean = np.mean(m_values[BURNIN:])\n",
    "m_std = np.std(m_values[BURNIN:])\n",
    "\n",
    "plt.figure()\n",
    "plt.plot(range(STEPS)[:BURNIN], m_values[:BURNIN], label=\"Burn in\")\n",
    "plt.plot(range(STEPS)[BURNIN:], m_values[BURNIN:], label=\"Sampling\")\n",
    "# show mean as dashed line\n",
    "plt.plot(range(STEPS), m_mean * np.ones((STEPS)), \"--\", color=\"black\")\n",
    "# show variance as filled box\n",
    "plt.fill_between(range(STEPS), m_mean - m_std, m_mean + m_std, color=\"gray\", alpha=0.3)\n",
    "plt.xlabel(\"Steps\")\n",
    "plt.ylabel(\"Magnetization\")\n",
    "plt.legend(title=f\"T={T}\")\n",
    "plt.show()\n",
    "\n",
    "print(f\"magnetization mean = {m_mean}\")\n",
    "print(f\"magnetization std = {m_std}\")"
   ]
  },
  {
   "cell_type": "code",
   "execution_count": null,
   "metadata": {},
   "outputs": [],
   "source": []
  }
 ],
 "metadata": {
  "colab": {
   "provenance": []
  },
  "kernelspec": {
   "display_name": "Python 3",
   "name": "python3"
  },
  "language_info": {
   "codemirror_mode": {
    "name": "ipython",
    "version": 3
   },
   "file_extension": ".py",
   "mimetype": "text/x-python",
   "name": "python",
   "nbconvert_exporter": "python",
   "pygments_lexer": "ipython3",
   "version": "3.9.16"
  }
 },
 "nbformat": 4,
 "nbformat_minor": 0
}
