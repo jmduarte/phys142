{
 "cells": [
  {
   "cell_type": "markdown",
   "metadata": {},
   "source": [
    "# Lab 15: MCMC for Feynman Path Integral Tutorial"
   ]
  },
  {
   "cell_type": "markdown",
   "metadata": {},
   "source": [
    "In the lecture we saw some results from S.Mittal et al, and we will try to reproduce them in the lab today. The Markov chain Monte Carlo (MCMC) method can be used to evaluate the\n",
    "discrete imaginary-time path integral (an alternative formulation to the path integral) of a quantum harmonic oscillator system with \"Euclidean Lagragian\" $L_E(x(\\tau))=\\frac{m}{2}(\\frac{dx}{d\\tau})^2 +V(x(\\tau))$, and we can obtain a histogram of the probability density by summing up the number of times a particle is in a bin. "
   ]
  },
  {
   "cell_type": "code",
   "execution_count": 1,
   "metadata": {},
   "outputs": [],
   "source": [
    "import numpy as np\n",
    "import matplotlib.pyplot as plt\n",
    "import tqdm"
   ]
  },
  {
   "cell_type": "markdown",
   "metadata": {},
   "source": [
    "Analytic solution of the Schodinger equation to the ground state wavefunction of a quantum harmonic oscillator is given by: $\\psi(x)=(\\frac{m\\omega}{\\pi\\hbar})^{1/4} \\exp{(-\\frac{m\\omega}{2\\hbar} x^2)}$.\n",
    "\n",
    "A different approach to solving the Schodinger equation is by evaluating the imaginary-time path integral for this system using the Markov chain Monte Carlo (MCMC) method.\n",
    "\n",
    "\n",
    "The path is assigned along a time lattice to $N_{xbins} =100$ spatial bins ranging in $[-4,4]$ with width $\\Delta x$. Choose time lattice with $N_{\\tau} = 30$ time increments $\\delta\\tau$ with lattice points $x_n = n\\delta \\tau$ for $n = 0,1,2,...,N_{\\tau}$, over $n_{sweeps} = 20,000$, hitsize $h = 0.1$, and set $m=\\hbar=1=\\omega$. Periodic boundary condition is imposed on the lattice. \n"
   ]
  },
  {
   "cell_type": "code",
   "execution_count": 2,
   "metadata": {},
   "outputs": [],
   "source": [
    "SWEEPS = 20_000\n",
    "H = 1\n",
    "OMEGA = 1\n",
    "M = 1\n",
    "TAU = 30\n",
    "DELTATAU = 1\n",
    "NTAU = int(TAU/DELTATAU)\n",
    "HITSIZE = 0.1\n",
    "\n",
    "XLOW = -4\n",
    "XHIGH = 4\n",
    "NXBINS = 100\n",
    "DELTAX = (XHIGH - XLOW) / NXBINS\n",
    "HITSIZE = 0.1\n",
    "prob_histogram = np.zeros(NXBINS)\n",
    "x_bins = np.linspace(XLOW, XHIGH, NXBINS + 1)\n",
    "\n",
    "x_path = np.zeros(NTAU)\n",
    "## analytical solution\n",
    "psi_analytical = (M*OMEGA/(np.pi*H))**0.25*np.exp(-M*OMEGA*x_bins**2/2/H)"
   ]
  },
  {
   "cell_type": "markdown",
   "metadata": {},
   "source": [
    "We begin with an initial path $x_{path}$, which may be an array of random numbers (‘hot’ start) or zeros (‘cold’ start), and we use the ‘cold’ start for now. This path is updated by applying the Metropolis–Hastings algorithm to each element $x_i$ of the path in random order, called a ‘sweep’. There are two steps in the updating process:\n",
    "- Generate a uniform random number $u \\in [-h, h]$ (where h is called the hitsize)\n",
    "- Propose the new value $x_i'=x_i +u$ of the path element and calculate the resulting change $\\Delta S$ in the action.\n",
    "If $\\Delta S \\leq 0$, accept the new path element.\n",
    "If $\\Delta S > 0$, accept with probability $exp(-\\Delta S/\\hbar)$.\n",
    "\n",
    "For better performance, we can play with the parameters DELTATAU, HITSIZE, SWEEPS, etc, and we can also add \"thinning\" where only every Nth sweep is saved. For example:\n",
    "- if we choose a smaller time step $\\delta\\tau = 0.1$, we end up with better energy approximation to the ground state; \n",
    "- if the hitsize we choose is too large, few changes will be accepted; too small and the exploration of phase space will be slow. How should we choose the hit size wisely?\n",
    "\n",
    "The action $S(\\{x_k\\})=\\delta\\tau\\sum_{i=1}^{N_{\\tau}}[\\frac{m}{2}(\\frac{x_{i+1}-x_i}{\\delta \\tau})^2 +V(x_i)]$, where $V(x_i) = \\sum_{i=1}^{N_{\\tau}}[\\frac{m\\omega^2}{2}(\\frac{x_{i+1}+x_i}{2})^2]$.\n",
    "Note that one sweep produces the next path. Each path is determined only by\n",
    "the immediately preceding path, so the complete sequence of paths forms a Markov chain,\n",
    "but the paths are correlated."
   ]
  },
  {
   "cell_type": "code",
   "execution_count": 3,
   "metadata": {},
   "outputs": [],
   "source": [
    "def vary_path(x_current):\n",
    "    x_prime = x_current + np.random.random() * 2 * HITSIZE - HITSIZE\n",
    "    while x_prime > XHIGH or x_prime < XLOW:\n",
    "        x_prime = x_current + np.random.random() * 2 * HITSIZE - HITSIZE\n",
    "    return x_prime\n",
    "\n",
    "def action(x_left, x_right):\n",
    "    K = 0.5 * M * (((x_right - x_left))**2) / DELTATAU\n",
    "    V = 0.5 * M * DELTATAU * (OMEGA**2) * (((x_left + x_right) / 2)**2)\n",
    "    return K + V\n",
    "\n",
    "def total_action(x_path):\n",
    "    path_action = 0\n",
    "    for i in range(-1, NXBINS-1):\n",
    "        path_action += action(x_path[i], x_path[i+1])\n",
    "    return path_action\n",
    "\n",
    "def delta_action(x_path, x_prime, i):\n",
    "    x_left = x_path[i-1]\n",
    "    x_right = x_path[i+1] if i < NTAU-1 else x_path[0] #PBC.\n",
    "    daction = action(x_left, x_prime) + action(x_prime, x_right) \n",
    "    daction -= action(x_left, x_path[i]) + action(x_path[i], x_right) #compute the resulting change from u in delta S.\n",
    "    return daction\n",
    "\n",
    "def MCMC(x_path, prob_histogram):\n",
    "    for i in range(NTAU):\n",
    "        x_prime = vary_path(x_path[i])\n",
    "        daction = delta_action(x_path, x_prime, i)\n",
    "        if daction <= 0:            \n",
    "            x_path[i] = x_prime\n",
    "        else:        \n",
    "            prob = np.exp(-daction)\n",
    "            if np.random.random() < prob:\n",
    "                x_path[i] = x_prime\n",
    "    hist, _ = np.histogram(x_path, bins=x_bins)\n",
    "    prob_histogram += hist"
   ]
  },
  {
   "cell_type": "code",
   "execution_count": 4,
   "metadata": {},
   "outputs": [
    {
     "name": "stderr",
     "output_type": "stream",
     "text": [
      "100%|██████████| 20000/20000 [00:07<00:00, 2765.38it/s]\n"
     ]
    }
   ],
   "source": [
    "for k in tqdm.tqdm(range(SWEEPS)):\n",
    "    MCMC(x_path, prob_histogram)"
   ]
  },
  {
   "cell_type": "markdown",
   "metadata": {},
   "source": [
    "Finally we get the histogram of the probability density by summing up the number of times a particle is in a bin, and compare it to the analytical solution. We can see the approximation from MCMC is pretty good.\n",
    "\n",
    "We can now play with the code by plotting the $\\langle E\\rangle$ observable for each sweep (or equivalently $\\langle x^2 \\rangle$ vs. iteration) to measure the equilibrium time; or measure the autocorrelation function/autocorrelation time, etc. "
   ]
  },
  {
   "cell_type": "code",
   "execution_count": 5,
   "metadata": {},
   "outputs": [
    {
     "data": {
      "image/png": "[encoded data removed]",
      "text/plain": [
       "<Figure size 432x288 with 1 Axes>"
      ]
     },
     "metadata": {
      "needs_background": "light"
     },
     "output_type": "display_data"
    }
   ],
   "source": [
    "plt.figure()\n",
    "plt.stairs(prob_histogram/np.sum(prob_histogram*DELTAX), x_bins, label=f\"MCMC, $\\\\tau = {TAU}$, $\\\\delta\\\\tau={DELTATAU}$\")\n",
    "plt.plot(x_bins, psi_analytical*psi_analytical.conjugate(), label=\"Analytical\")\n",
    "plt.legend()\n",
    "plt.show()"
   ]
  },
  {
   "cell_type": "code",
   "execution_count": null,
   "metadata": {},
   "outputs": [],
   "source": []
  }
 ],
 "metadata": {
  "kernelspec": {
   "display_name": "Python 3 (ipykernel)",
   "language": "python",
   "name": "python3"
  },
  "language_info": {
   "codemirror_mode": {
    "name": "ipython",
    "version": 3
   },
   "file_extension": ".py",
   "mimetype": "text/x-python",
   "name": "python",
   "nbconvert_exporter": "python",
   "pygments_lexer": "ipython3",
   "version": "3.9.5"
  }
 },
 "nbformat": 4,
 "nbformat_minor": 2
}
