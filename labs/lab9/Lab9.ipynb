{
 "cells": [
  {
   "cell_type": "markdown",
   "metadata": {},
   "source": [
    "# Lab 9: Eigenvalue Problem Demo"
   ]
  },
  {
   "cell_type": "code",
   "execution_count": null,
   "metadata": {},
   "outputs": [],
   "source": [
    "import matplotlib.pyplot as plt\n",
    "import numpy as np\n",
    "import scipy"
   ]
  },
  {
   "cell_type": "code",
   "execution_count": null,
   "metadata": {},
   "outputs": [],
   "source": [
    "OMEGA = 1\n",
    "BOXSIZE = 8\n",
    "ND = 600\n",
    "DELTAX = BOXSIZE / ND\n",
    "HBAR = 1\n",
    "ALPHA = 0.4\n",
    "\n",
    "x = np.linspace(-BOXSIZE / 2, BOXSIZE / 2, ND + 1)\n",
    "\n",
    "def V(x):\n",
    "    return 0.5*x**2\n",
    "\n",
    "H = np.zeros((ND + 1, ND + 1))\n",
    "\n",
    "for i in range(ND + 1):\n",
    "    for j in range(ND + 1):\n",
    "        # kinetic part\n",
    "        H[i, j] = -(0.5 / DELTAX**2) * ((i + 1 == j) - 2 * (i == j) + (i - 1 == j)) \n",
    "        # potential part\n",
    "        H[i, j] += V(x[i]) * (i == j)\n",
    "\n",
    "# print the first 4x4 elements of H\n",
    "print(H[:4,:4])"
   ]
  },
  {
   "cell_type": "code",
   "execution_count": null,
   "metadata": {},
   "outputs": [],
   "source": [
    "%%timeit\n",
    "# standard method\n",
    "Es, psi = scipy.linalg.eigh(H)"
   ]
  },
  {
   "cell_type": "code",
   "execution_count": null,
   "metadata": {},
   "outputs": [],
   "source": [
    "%%timeit\n",
    "# find the lowest eigenvalues and corresponding eigenvectors of H using ARPACK\n",
    "Es, psis = scipy.sparse.linalg.eigsh(H, k=2, which='SM')"
   ]
  },
  {
   "cell_type": "code",
   "execution_count": null,
   "metadata": {},
   "outputs": [],
   "source": [
    "%%timeit\n",
    "# shift-invert mode is faster for finding these\n",
    "Es, psis = scipy.sparse.linalg.eigsh(H, k=2, sigma=0, which='LM')"
   ]
  },
  {
   "cell_type": "code",
   "execution_count": null,
   "metadata": {},
   "outputs": [],
   "source": [
    "Es, psis = scipy.sparse.linalg.eigsh(H, k=2, sigma=0, which='LM')\n",
    "\n",
    "E_0 = Es[0]\n",
    "E_1 = Es[1]\n",
    "psi_0 = psis[:, 0]\n",
    "psi_1 = psis[:, 1]\n",
    "\n",
    "# normalize the wave functions\n",
    "psi_0 /= np.sqrt(np.sum(psi_0.conjugate() * psi_0) * DELTAX)\n",
    "psi_1 /= np.sqrt(np.sum(psi_1.conjugate() * psi_1) * DELTAX)"
   ]
  },
  {
   "cell_type": "code",
   "execution_count": null,
   "metadata": {},
   "outputs": [],
   "source": [
    "xmin, xmax, ymin, ymax = -BOXSIZE/2, BOXSIZE/2, -1, 3\n",
    "plt.figure(dpi=300, figsize=(8, 6))\n",
    "plt.plot(x, E_0*np.ones_like(x), 'b--', label=f\"$E_0$\")\n",
    "plt.plot(x, E_1*np.ones_like(x), 'r--', label=f\"$E_1$\")\n",
    "plt.plot(x, psi_0 + E_0, 'b-', label=f\"$\\psi_0(x)$\")\n",
    "plt.plot(x, psi_1 + E_1, 'r-', label=f\"$\\psi_1(x)$\")\n",
    "plt.plot(x, V(x), 'k', label='$V(x)$')\n",
    "plt.xlabel(\"$x$\")\n",
    "plt.ylabel(r\"$V(x)$ or $\\psi(x)$\")\n",
    "plt.xlim([xmin, xmax])\n",
    "plt.ylim([ymin, ymax])\n",
    "plt.legend(loc='upper right')\n",
    "plt.tight_layout()\n",
    "plt.savefig(\"ho_e0_e1.pdf\")\n",
    "plt.show()"
   ]
  },
  {
   "cell_type": "markdown",
   "metadata": {},
   "source": [
    "## Manual power method\n",
    "\n",
    "Let's try the power method manually for the lowest eigenvalue of the following matrix.\n",
    "\n",
    "Following lecture, we will need to first invert the matrix."
   ]
  },
  {
   "cell_type": "code",
   "execution_count": null,
   "metadata": {},
   "outputs": [],
   "source": [
    "n_iter = 20\n",
    "u = [np.ones(ND + 1)]\n",
    "lambda_0 = [np.dot(u[-1].conjugate(), H @ u[0]) / np.dot(u[-1].conjugate(), u[0])]\n",
    "Hinv = scipy.linalg.inv(H)\n",
    "for i in range(n_iter):\n",
    "    u.append(Hinv @ u[-1])\n",
    "    u[-1] /= (np.sum(u[-1].conjugate() * u[-1]) * DELTAX)\n",
    "    lambda_0.append(np.dot(u[-1].conjugate(), H @ u[-1]) / np.dot(u[-1].conjugate(), u[-1]))"
   ]
  },
  {
   "cell_type": "code",
   "execution_count": null,
   "metadata": {},
   "outputs": [],
   "source": [
    "plt.figure(dpi=300, figsize=(8, 6))\n",
    "plt.plot(x, V(x), 'k', label='$V(x)$')\n",
    "plt.plot(x, lambda_0[-1]*np.ones_like(x), 'b--', label=f\"$E_0$\")\n",
    "plt.plot(x, u[-1] + lambda_0[-1], 'b-', label=f\"$\\psi_0(x)$\")\n",
    "plt.xlabel(\"$x$\")\n",
    "plt.ylabel(r\"$V(x)$ or $\\psi(x)$\")\n",
    "plt.xlim([xmin, xmax])\n",
    "plt.ylim([ymin, ymax])\n",
    "plt.legend()\n",
    "plt.show()"
   ]
  },
  {
   "cell_type": "markdown",
   "metadata": {},
   "source": [
    "## Exercise: repeat for the second eigenvalue\n"
   ]
  },
  {
   "cell_type": "markdown",
   "metadata": {},
   "source": []
  }
 ],
 "metadata": {
  "kernelspec": {
   "display_name": "Python 3.10.4 ('playground')",
   "language": "python",
   "name": "python3"
  },
  "language_info": {
   "codemirror_mode": {
    "name": "ipython",
    "version": 3
   },
   "file_extension": ".py",
   "mimetype": "text/x-python",
   "name": "python",
   "nbconvert_exporter": "python",
   "pygments_lexer": "ipython3",
   "version": "3.9.16"
  },
  "orig_nbformat": 4,
  "vscode": {
   "interpreter": {
    "hash": "725838c595786ca03589bc9bd25e9f8a14247b2a3328879b9950fd22c9f29489"
   }
  }
 },
 "nbformat": 4,
 "nbformat_minor": 2
}
