{
 "cells": [
  {
   "cell_type": "markdown",
   "metadata": {},
   "source": [
    "# Lab 15: MCMC for Feynman Path Integral Tutorial"
   ]
  },
  {
   "cell_type": "code",
   "execution_count": null,
   "metadata": {},
   "outputs": [],
   "source": [
    "import numpy as np\n",
    "import matplotlib.pyplot as plt\n",
    "import tqdm"
   ]
  },
  {
   "cell_type": "code",
   "execution_count": null,
   "metadata": {},
   "outputs": [],
   "source": [
    "SWEEPS = 20_000\n",
    "H = 1\n",
    "OMEGA = 1\n",
    "M = 1\n",
    "TAU = 30\n",
    "DELTATAU = 1\n",
    "NTAU = int(TAU/DELTATAU)\n",
    "HITSIZE = 0.1\n",
    "\n",
    "XLOW = -4\n",
    "XHIGH = 4\n",
    "NXBINS = 100\n",
    "DELTAX = (XHIGH - XLOW) / NXBINS\n",
    "HITSIZE = 0.1\n",
    "prob_histogram = np.zeros(NXBINS)\n",
    "x_bins = np.linspace(XLOW, XHIGH, NXBINS + 1)\n",
    "\n",
    "x_path = np.zeros(NTAU)\n",
    "## analytical solution\n",
    "psi_analytical = (M*OMEGA/(np.pi*H))**0.25*np.exp(-M*OMEGA*x_bins**2/2/H)"
   ]
  },
  {
   "cell_type": "code",
   "execution_count": null,
   "metadata": {},
   "outputs": [],
   "source": [
    "def vary_path(x_current):\n",
    "    x_prime = x_current + np.random.random() * 2 * HITSIZE - HITSIZE\n",
    "    while x_prime > XHIGH or x_prime < XLOW:\n",
    "        x_prime = x_current + np.random.random() * 2 * HITSIZE - HITSIZE\n",
    "    return x_prime\n",
    "\n",
    "def action(x_left, x_right):\n",
    "    K = 0.5 * M * (((x_right - x_left))**2) / DELTATAU\n",
    "    V = 0.5 * M * DELTATAU * (OMEGA**2) * (((x_left + x_right) / 2)**2)\n",
    "    return K + V\n",
    "\n",
    "def total_action(x_path):\n",
    "    path_action = 0\n",
    "    for i in range(-1, NXBINS-1):\n",
    "        path_action += action(x_path[i], x_path[i+1])\n",
    "    return path_action\n",
    "\n",
    "def delta_action(x_path, x_prime, i):\n",
    "    x_left = x_path[i-1]\n",
    "    x_right = x_path[i+1] if i < NTAU-1 else x_path[0]\n",
    "    daction = action(x_left, x_prime) + action(x_prime, x_right) \n",
    "    daction -= action(x_left, x_path[i]) + action(x_path[i], x_right)\n",
    "    return daction\n",
    "\n",
    "def MCMC(x_path, prob_histogram):\n",
    "    for i in range(NTAU):\n",
    "        x_prime = vary_path(x_path[i])\n",
    "        daction = delta_action(x_path, x_prime, i)\n",
    "        if daction <= 0:            \n",
    "            x_path[i] = x_prime\n",
    "        else:        \n",
    "            prob = np.exp(-daction)\n",
    "            if np.random.random() < prob:\n",
    "                x_path[i] = x_prime\n",
    "    hist, _ = np.histogram(x_path, bins=x_bins)\n",
    "    prob_histogram += hist"
   ]
  },
  {
   "cell_type": "code",
   "execution_count": null,
   "metadata": {},
   "outputs": [],
   "source": [
    "for k in tqdm.tqdm(range(SWEEPS)):\n",
    "    MCMC(x_path, prob_histogram)"
   ]
  },
  {
   "cell_type": "code",
   "execution_count": null,
   "metadata": {},
   "outputs": [],
   "source": [
    "plt.figure()\n",
    "plt.stairs(prob_histogram/np.sum(prob_histogram*DELTAX), x_bins, label=f\"MCMC, $\\\\tau = {TAU}$, $\\\\delta\\\\tau={DELTATAU}$\")\n",
    "plt.plot(x_bins, psi_analytical*psi_analytical.conjugate(), label=\"Analytical\")\n",
    "plt.legend()\n",
    "plt.show()"
   ]
  },
  {
   "cell_type": "code",
   "execution_count": null,
   "metadata": {},
   "outputs": [],
   "source": []
  }
 ],
 "metadata": {
  "kernelspec": {
   "display_name": "phys141",
   "language": "python",
   "name": "python3"
  },
  "language_info": {
   "codemirror_mode": {
    "name": "ipython",
    "version": 3
   },
   "file_extension": ".py",
   "mimetype": "text/x-python",
   "name": "python",
   "nbconvert_exporter": "python",
   "pygments_lexer": "ipython3",
   "version": "3.9.16"
  }
 },
 "nbformat": 4,
 "nbformat_minor": 2
}
