{
 "cells": [
  {
   "cell_type": "markdown",
   "id": "e0a8ceab",
   "metadata": {},
   "source": [
    "# Git/GitHub Tutorial\n",
    "\n",
    "GitHub is a code hosting platform for version control and collaboration. It lets you and others work together on projects from anywhere.\n",
    "\n",
    "## GitHub essentials\n",
    "Before we head to the basics, create/log in your GitHub account.\n",
    "### Repositories\n",
    "* A repository is usually used to organize a single project.\n",
    "* Repositories can contain folders and files, images, videos, spreadsheets, and data sets -- anything your project needs. \n",
    "* Often, repositories include a README file, a file with information about your project written in the plain text Markdown language. A Markdown language cheat sheet: https://www.markdownguide.org/cheat-sheet/\n",
    "\n",
    "Now let's practice!\n",
    "\n",
    "### Branches\n",
    "* Branching lets you have different versions of a repository at one time.\n",
    "* Your repository has only one branch named `main` by default, but you can create additional branches off of `main` in your repository. You can use branches to have different versions of a project at one time. This is helpful when you want to add new features to a project without changing the main source of code. \n",
    "* The work done on different branches will not show up on the `main` branch until you merge it. You can use branches to experiment and make edits before committing them to `main`.\n",
    "![alt text](diagram.png)\n",
    "\n",
    "Practice: Create `readme-edits` branch.\n",
    "\n",
    "\n",
    "### Commits\n",
    "* When you created a new branch in the previous step, GitHub brought you to the code page for your new `readme-edits` branch, which is a copy of `main`.\n",
    "\n",
    "* You can make and save changes to the files in your repository. On GitHub, saved changes are called commits. \n",
    "\n",
    "* Each commit has an associated commit message, which is a description tha captures the history of your changes so that other contributors can understand what you’ve done and why.\n",
    "\n",
    "Practice: Edit the README.md file and commit changes. Now this branch should be containining content that's different from `main`.\n",
    "\n",
    "\n",
    "### Pull Requests\n",
    "* Now that you have changes in a branch off of `main`, you can open a pull request.\n",
    "* Pull requests are the heart of collaboration on GitHub. When you open a pull request, you're proposing your changes and requesting that someone review and pull in your contribution and merge them into their branch. Pull requests show diffs, or differences, of the content from both branches. The changes, additions, and subtractions are shown in different colors.\n",
    "* As soon as you make a commit, you can open a pull request and start a discussion, even before the code is finished. By using GitHub's `@mention` feature in your pull request message, you can ask for feedback from specific people or teams.\n",
    "\n",
    "Practice: Create a pull request. Now your collaborators can review your edits and make suggestions.\n",
    "\n",
    "### Merging your pull request\n",
    "\n",
    "* In this final step, you will merge your `readme-edits` branch into the `main` branch. After you merge your pull request, the changes on your `readme-edits` branch will be incorporated into `main`."
   ]
  },
  {
   "cell_type": "markdown",
   "id": "6a8cd96c",
   "metadata": {},
   "source": [
    "## Use Git/GitHub with Jupyter Notebook\n",
    "\n",
    "\n",
    "### Add a notebook to the GitHub repository\n",
    "* Copy the highlighted HTTPS repository URL, and clone the GitHub repository on our machine by running following on the terminal: `git clone https://github.com/usrname/repositoryname.git`. It will create lab05 directory on our machine which is linked to `lab05` repository on Github. \n",
    "\n",
    "* Let’s push some notebooks to the repository. We copy two notebooks to the directory where we cloned projectA repository, `cp /some/path/analysis1.ipynb /path/of/lab05/`. \n",
    "\n",
    "* To push `analysis1.ipynb` to GitHub, we first need to tell local git client to start tracking the file using `git add analysis1.ipynb` (If you want to upload more than one notebooks, instead you can update the repository by enter the folder of the github repositary that you want to update, then type `git add .`). You can check which files are being tracked with `git status`. \n",
    "\n",
    "* Now let’s commit the changes, `git commit -m \"Adds customer data analysis notebook\"`\n",
    "\n",
    "* Let’s push this commit to GitHub:`git push`\n",
    "\n",
    "### Integrate the remote changes to your local directory\n",
    "* `git pull`\n",
    "\n",
    "* If you have made local changes to the directory, you need to commit your changes or stash them before you merge. You can't merge with local modifications.\n",
    "\n",
    "###  Three options\n",
    "* Commit the change using: `git commit -m \"My message\"`\n",
    "* Stash the change using `git stash`, you can do the merge, and then pull the stash: `git stash pop`\n",
    "* Discard the local changes using `git reset --hard` for all changes or `git checkout filename` for a specific file.\n",
    "\n"
   ]
  },
  {
   "cell_type": "markdown",
   "id": "c1cd08c9",
   "metadata": {},
   "source": []
  },
  {
   "cell_type": "code",
   "execution_count": null,
   "id": "aed385f2",
   "metadata": {},
   "outputs": [],
   "source": []
  }
 ],
 "metadata": {
  "kernelspec": {
   "display_name": "Python 3 (ipykernel)",
   "language": "python",
   "name": "python3"
  },
  "language_info": {
   "codemirror_mode": {
    "name": "ipython",
    "version": 3
   },
   "file_extension": ".py",
   "mimetype": "text/x-python",
   "name": "python",
   "nbconvert_exporter": "python",
   "pygments_lexer": "ipython3",
   "version": "3.9.5"
  }
 },
 "nbformat": 4,
 "nbformat_minor": 5
}
