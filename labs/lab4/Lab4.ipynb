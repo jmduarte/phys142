{
 "cells": [
  {
   "cell_type": "markdown",
   "metadata": {},
   "source": [
    "# Lab 4: Free Particle Propagator (Assignment 1 Tutorial)\n",
    "\n",
    "In assignment 1, we will perform the path integral numerically for the harmonic oscillator.\n",
    "In today's lab, we'll start with a simpler problem: the free particle.\n",
    "\n",
    "\\begin{equation}\n",
    "L = K = \\frac{1}{2}\\dot{x}^2\n",
    "\\end{equation}\n",
    "\n",
    "where $m = \\hbar = 1$ in these units.\n",
    "\n",
    "## Setup\n",
    "\n",
    "We will use the discrete approximation to the path integral over a time period $T_0 = 2\\pi$, where the time step is $\\epsilon = \\Delta t = T_0/128$.\n",
    "The electron position is also discretized into $N_D+1$ possible points, $x_0 = -4, x_1, x_2, \\ldots, x_{N_D} = +4$, where $N_D=600$.\n",
    "\n",
    "Let's set these up as constants in our code."
   ]
  },
  {
   "cell_type": "code",
   "execution_count": null,
   "metadata": {},
   "outputs": [],
   "source": [
    "import matplotlib.pyplot as plt\n",
    "import numpy as np\n",
    "\n",
    "T0 = 2 * np.pi \n",
    "NT = 128 \n",
    "DELTAT = T0 / NT\n",
    "BOXSIZE = 8\n",
    "ND = 600\n",
    "DELTAX = BOXSIZE / ND\n",
    "HBAR = 1"
   ]
  },
  {
   "cell_type": "markdown",
   "metadata": {},
   "source": [
    "## Initial probability amplitude\n",
    "\n",
    "The initial probability amplitude (sometimes called the wavefunction) of the electron is a Gaussian centered at $x_\\mathrm{start}$,\n",
    "\n",
    "\\begin{equation}\n",
    "  \\Psi_0(x) = \\left(\\frac{\\alpha}{\\pi}\\right)^{1/4}\\exp\\left(-\\frac{\\alpha}{2}(x-x_\\mathrm{start})^2\\right),\n",
    "\\end{equation}\n",
    "\n",
    "where $\\alpha = 2$ and $x_\\mathrm{start} = 0$.\n",
    "The amplitude can be represented as a vector $\\psi_0$ with $N_D+1$ components, $\\psi_0 = (\\Psi_0(x_0), \\Psi_0(x_1), \\ldots, \\Psi_0(x_{N_D}))$.\n",
    "\n",
    "We will plot this initial amplitude and check it's normalization."
   ]
  },
  {
   "cell_type": "code",
   "execution_count": null,
   "metadata": {},
   "outputs": [],
   "source": [
    "XSTART = 0\n",
    "\n",
    "t = np.linspace(0, T0, NT + 1)\n",
    "x = np.linspace(-BOXSIZE / 2, BOXSIZE / 2, ND + 1)\n",
    "\n",
    "def func_psi_0(x, x_start):\n",
    "    alpha = 2\n",
    "    return (alpha / np.pi) ** (1 / 4) * np.exp(-alpha / 2 * (x - x_start)**2)\n",
    "\n",
    "psi_0 = func_psi_0(x, XSTART)\n",
    "\n",
    "print(f\"Psi at every 10th point: {psi_0[::10]}\")\n",
    "print(f\"Normalization condition:  {DELTAX * sum(psi_0 * psi_0.conjugate())}\")"
   ]
  },
  {
   "cell_type": "markdown",
   "metadata": {},
   "source": [
    "## Exercise 1: Plot the initial probability distribution"
   ]
  },
  {
   "cell_type": "code",
   "execution_count": null,
   "metadata": {},
   "outputs": [],
   "source": [
    "\n",
    "xmin, xmax = -BOXSIZE / 2, BOXSIZE / 2\n",
    "plt.figure(figsize=(6, 6))\n",
    "# plot the initial probability distribution here\n",
    "plt.plot(x, psi_0 * psi_0.transpose(), label=r\"$|\\psi_0|^2$\")\n",
    "plt.xlabel(r\"$x$\")\n",
    "plt.ylabel(r\"$|\\psi|^2$\")\n",
    "plt.xlim([xmin, xmax])\n",
    "plt.legend()\n",
    "plt.show()"
   ]
  },
  {
   "cell_type": "markdown",
   "metadata": {},
   "source": [
    "## Propagator matrix\n",
    "\n",
    "From lecture, we have the free particle propagator,\n",
    "\n",
    "\\begin{equation}\n",
    "\\mathcal K(x_b, t_b; x_a, t_a) = \\left (\\frac{m}{2\\pi i \\hbar (t_b -t_a)}  \\right )^{1/2}\\exp\\left [\\frac{im(x_b - x_a)^2}{2\\hbar(t_b-t_a)}\\right ].\n",
    "\\end{equation}\n",
    "\n",
    "In this problem, we can reduce this to\n",
    "\n",
    "\\begin{equation}\n",
    "\\mathcal K_\\epsilon(x_j; x_i) = \\mathcal K(x_j, \\epsilon; x_i, 0) = \\left (\\frac{m}{2\\pi i \\hbar \\epsilon} \\right )^{1/2}\\exp\\left [\\frac{im(x_j - x_i)^2}{2\\hbar\\epsilon}\\right ].\n",
    "\\end{equation}\n",
    "\n",
    "Here, we use $x_i$ and $x_j$ because $x$ is discretized.\n",
    "\n",
    "Since $x$ is discretized, we can write this as a matrix,\n",
    "\n",
    "\\begin{equation}\n",
    "(K_\\epsilon)_{i, j} = K_\\epsilon(x_j; x_i).\n",
    "\\end{equation}\n",
    "\n",
    "Note, we can get matrix $K_{t}$ at any time $t$\n",
    "\n",
    "\\begin{equation}\n",
    "K_{t} = (\\Delta x)^{N-1} {K_\\epsilon}^N,\n",
    "\\end{equation}\n",
    "\n",
    "where $t = N \\epsilon$.\n",
    "\n",
    "The assignment asks you to calculate the propagator matrix $\\mathcal K_{8\\epsilon}$ for a time period $T_0/16 = 8\\epsilon$ (8 time steps) built from the elementary propagator matrix $\\mathcal K_\\epsilon$ for a single $\\epsilon=\\Delta t=T_0/128$ time step.\n",
    "You can do this with the formula above, setting $N=8$."
   ]
  },
  {
   "cell_type": "code",
   "execution_count": null,
   "metadata": {},
   "outputs": [],
   "source": [
    "def func_K(x_j, x_i, dt):\n",
    "    coefficient = np.sqrt(1 / (2 * np.pi * 1j * HBAR * dt))\n",
    "    exponent = 1j * (x_j - x_i)**2 / (2 * HBAR * dt)\n",
    "    return coefficient * np.exp(exponent)\n",
    "\n",
    "K_dt = np.zeros((ND + 1, ND + 1), dtype=np.complex64)\n",
    "for i in range(ND + 1):\n",
    "    for j in range(ND + 1):\n",
    "        K_dt[i, j] = func_K(x[j], x[i], DELTAT)\n",
    "    "
   ]
  },
  {
   "cell_type": "markdown",
   "metadata": {},
   "source": [
    "## Evolve the probability amplitude\n",
    "\n",
    "Next, we will evolve the probability amplitude (wave function) of the electron by one time step at a time.\n",
    "\n",
    "We will also compute the probability distribution $|\\psi_t(x)|^2$ at each time step.\n",
    "\n",
    "Note, given $\\psi_t(x)$ at a given time, we are able to find the mean position $\\langle x \\rangle$ by \n",
    "\n",
    "\\begin{equation}\n",
    "\\langle x\\rangle = \\int x |\\psi_t(x)|^2\\ dx,\n",
    "\\end{equation}\n",
    "but we'll skip that for now."
   ]
  },
  {
   "cell_type": "code",
   "execution_count": null,
   "metadata": {},
   "outputs": [],
   "source": [
    "psi = [psi_0]\n",
    "\n",
    "for i in range(1, NT + 1):\n",
    "    psi_t = DELTAX * np.matmul(K_dt, psi[i-1])\n",
    "    psi.append(psi_t)\n",
    "\n",
    "prob = []\n",
    "for i in range(NT + 1):\n",
    "    prob.append(np.real(psi[i] * psi[i].conjugate()))\n"
   ]
  },
  {
   "cell_type": "markdown",
   "metadata": {},
   "source": [
    "## Exercise 2: Plot the evolution of the probability distribution\n",
    "\n",
    "Let's plot the evolution of the probability distribution every 2 time steps (i.e. $2\\epsilon = T_0/64$) from $t=0$ to $T_0/8 = \\pi/4$."
   ]
  },
  {
   "cell_type": "code",
   "execution_count": null,
   "metadata": {},
   "outputs": [],
   "source": [
    "plt.figure(figsize=(6, 6))\n",
    "plot_interval = 2\n",
    "for i in range(0, NT // 8 + 1, plot_interval):\n",
    "    # plot the probability distribution and label it with the time\n",
    "    plt.plot(x, prob[i], label=f\"t = {t[i]:.2f}\")\n",
    "plt.xlabel(r\"$x$\")\n",
    "plt.ylabel(r\"$|\\psi|^2$\")\n",
    "plt.xlim([xmin, xmax])\n",
    "plt.legend()\n",
    "plt.show()"
   ]
  },
  {
   "cell_type": "markdown",
   "metadata": {},
   "source": [
    "## Changing the initial wave function\n",
    "\n",
    "It seems like the mean position of the particle doesn't move, but the probability does \"disperse\" away. Why is that? The initial wave function is a Gaussian centered at $x_\\mathrm{start} = 0$ basically representing a particle at rest.\n",
    "But this has contributions from all possible momenta, so the particle has some probability to be found away from the origin with amplitude given according to the free propagator.\n",
    "\n",
    "Let's try a different wave function with some definite initial momentum $p=\\hbar k_0$,\n",
    "\n",
    "\\begin{equation}\n",
    "  \\Psi_0(x) = \\left(\\frac{\\alpha}{\\pi}\\right)^{1/4}\\exp\\left(-\\frac{\\alpha}{2}(x-x_\\mathrm{start})^2 + i k_0 (x-x_\\mathrm{start})\\right),\n",
    "\\end{equation}\n",
    "\n",
    "and again $\\alpha = 2$ and $x_\\mathrm{start} = 0$, and now let's set the wavenumber $k_0 = 1$ . "
   ]
  },
  {
   "cell_type": "code",
   "execution_count": null,
   "metadata": {},
   "outputs": [],
   "source": [
    "K0 = 1\n",
    "\n",
    "def func_psi_0(x, x_start):\n",
    "    alpha = 2\n",
    "    return (alpha / np.pi) ** (1 / 4) * np.exp(-(alpha / 2) * (x - x_start)**2 + 1j * K0 * (x - x_start))\n",
    "\n",
    "psi_0 = func_psi_0(x, XSTART)\n",
    "\n",
    "print(f\"Psi at every 10th point: {psi_0[::10]}\")\n",
    "print(f\"Normalization condition:  {DELTAX * sum(psi_0 * psi_0.conjugate())}\")"
   ]
  },
  {
   "cell_type": "code",
   "execution_count": null,
   "metadata": {},
   "outputs": [],
   "source": [
    "psi = [psi_0]\n",
    "\n",
    "for i in range(1, NT + 1):\n",
    "    psi_t = DELTAX * np.matmul(K_dt, psi[i-1])\n",
    "    psi.append(psi_t)\n",
    "\n",
    "prob = []\n",
    "for i in range(NT + 1):\n",
    "    prob.append(np.real(psi[i] * psi[i].conjugate()))"
   ]
  },
  {
   "cell_type": "markdown",
   "metadata": {},
   "source": [
    "## Exercise 3: Plot the evolution of the probability distribution\n",
    "\n",
    "Again, let's plot the evolution of the probability distribution every 2 time steps (i.e. $2\\epsilon = T_0/64$) from $t=0$ to $T_0/8 = \\pi/4$."
   ]
  },
  {
   "cell_type": "code",
   "execution_count": null,
   "metadata": {},
   "outputs": [],
   "source": [
    "plt.figure(figsize=(6, 6))\n",
    "for i in range(0, NT // 8 + 1, plot_interval):\n",
    "    # plot the probability distribution and label it with the time\n",
    "    plt.plot(x, prob[i], label=f\"t = {t[i]:.2f}\")\n",
    "plt.xlabel(r\"$x$\")\n",
    "plt.ylabel(r\"$|\\psi|^2$\")\n",
    "plt.xlim([xmin, xmax])\n",
    "plt.legend()\n",
    "plt.show()"
   ]
  },
  {
   "cell_type": "code",
   "execution_count": null,
   "metadata": {},
   "outputs": [],
   "source": []
  }
 ],
 "metadata": {
  "kernelspec": {
   "display_name": "Python 3.10.4 ('playground')",
   "language": "python",
   "name": "python3"
  },
  "language_info": {
   "codemirror_mode": {
    "name": "ipython",
    "version": 3
   },
   "file_extension": ".py",
   "mimetype": "text/x-python",
   "name": "python",
   "nbconvert_exporter": "python",
   "pygments_lexer": "ipython3",
   "version": "3.9.16"
  },
  "orig_nbformat": 4,
  "vscode": {
   "interpreter": {
    "hash": "725838c595786ca03589bc9bd25e9f8a14247b2a3328879b9950fd22c9f29489"
   }
  }
 },
 "nbformat": 4,
 "nbformat_minor": 2
}
